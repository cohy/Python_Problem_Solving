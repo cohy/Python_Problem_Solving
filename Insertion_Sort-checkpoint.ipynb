{
 "cells": [
  {
   "cell_type": "markdown",
   "metadata": {},
   "source": [
    "Implementaion of Insertion Sort\n",
    "\n",
    "Worst Case Time Complexity [ Big-O ]: O(n2)\n",
    "\n",
    "Best Case Time Complexity [Big-omega]: O(n)\n",
    "\n",
    "Average Time Complexity [Big-theta]: O(n2)"
   ]
  },
  {
   "cell_type": "code",
   "execution_count": 7,
   "metadata": {},
   "outputs": [],
   "source": [
    "def InsertionSort(A,n):\n",
    "    for i in range(1,n):\n",
    "        value = A[i]\n",
    "        hole = i\n",
    "        while (hole > 0) and (A[hole-1]> value):\n",
    "            A[hole] = A[hole -1]\n",
    "            hole = hole -1\n",
    "        A[hole] = value\n",
    "    print(A)\n",
    "    pass\n"
   ]
  },
  {
   "cell_type": "code",
   "execution_count": 13,
   "metadata": {},
   "outputs": [],
   "source": [
    "A = [1,7,5,3,4]\n"
   ]
  },
  {
   "cell_type": "code",
   "execution_count": 14,
   "metadata": {},
   "outputs": [
    {
     "name": "stdout",
     "output_type": "stream",
     "text": [
      "[1, 3, 4, 5, 7]\n"
     ]
    }
   ],
   "source": [
    "InsertionSort(A,len(A))"
   ]
  }
 ],
 "metadata": {
  "kernelspec": {
   "display_name": "Python 3",
   "language": "python",
   "name": "python3"
  },
  "language_info": {
   "codemirror_mode": {
    "name": "ipython",
    "version": 3
   },
   "file_extension": ".py",
   "mimetype": "text/x-python",
   "name": "python",
   "nbconvert_exporter": "python",
   "pygments_lexer": "ipython3",
   "version": "3.7.4"
  }
 },
 "nbformat": 4,
 "nbformat_minor": 2
}
