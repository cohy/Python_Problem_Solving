{
 "cells": [
  {
   "cell_type": "code",
   "execution_count": 54,
   "metadata": {},
   "outputs": [],
   "source": [
    "def spiralOrder(A):\n",
    "        \n",
    "        m = len(A)\n",
    "        n = 0\n",
    "        for i in A:\n",
    "            for j in i:\n",
    "                n = n +1 \n",
    "        \n",
    "        n = int(n/m)\n",
    "        A = list(A)\n",
    "        #print(A)\n",
    "        T = 0 \n",
    "        B = m-1\n",
    "        R = n-1\n",
    "        L = 0\n",
    "        ls = []\n",
    "        #print(T,B,R,L,m,n)\n",
    "        dir = 0\n",
    "        \n",
    "        while (T <= B) & (L <= R):\n",
    "            #print(T,B,R,L)\n",
    "            if dir == 0:\n",
    "                for i in range(L,R+1):\n",
    "                    ls.append(A[T][i])\n",
    "                T += 1\n",
    "                dir +=1\n",
    "                #print('dir 0',ls)\n",
    "            if dir == 1:\n",
    "                if (B > 0) and (B >= T):\n",
    "                    for i in range(T-1,B):\n",
    "                        ls.append(A[i+1][R])\n",
    "                R -= 1\n",
    "                dir += 1\n",
    "                #print('dir 1',ls)\n",
    "            if dir == 2:\n",
    "                if (B > 0) and (B >= T):    \n",
    "                    for i in range(R,L-1 ,-1):\n",
    "                        ls.append(A[B][i])\n",
    "                    \n",
    "                        \n",
    "                B -= 1\n",
    "                dir +=1\n",
    "                #print('dir 2',ls)\n",
    "            if dir == 3:\n",
    "                if R >= L:\n",
    "                    if R == -1:\n",
    "                          for i in range(B,T,-1):\n",
    "                            ls.append(A[i][L])\n",
    "                    else:\n",
    "                        for i in range(B,T-1,-1):\n",
    "                            ls.append(A[i][L])\n",
    "                L +=1\n",
    "                dir +=1 \n",
    "                #print('dir 3',ls)\n",
    "            dir = dir%4\n",
    "                #print(dir)\n",
    "        print(ls)\n",
    "        pass\n",
    "            \n",
    "            "
   ]
  },
  {
   "cell_type": "code",
   "execution_count": 51,
   "metadata": {},
   "outputs": [
    {
     "data": {
      "text/plain": [
       "[[26, 214, 3],\n",
       " [353, 330, 147],\n",
       " [229, 302, 276],\n",
       " [125, 335, 284],\n",
       " [290, 228, 30]]"
      ]
     },
     "execution_count": 51,
     "metadata": {},
     "output_type": "execute_result"
    }
   ],
   "source": [
    "A =[\n",
    "  [26, 214, 3],\n",
    "  [353, 330, 147],\n",
    "  [229, 302, 276],\n",
    "  [125, 335, 284],\n",
    "  [290, 228, 30]\n",
    "    ]\n",
    " \n"
   ]
  },
  {
   "cell_type": "code",
   "execution_count": 55,
   "metadata": {},
   "outputs": [
    {
     "name": "stdout",
     "output_type": "stream",
     "text": [
      "[26, 214, 3, 147, 276, 284, 30, 228, 290, 125, 229, 353, 330, 302, 335]\n"
     ]
    }
   ],
   "source": [
    "M = spiralOrder(A)"
   ]
  },
  {
   "cell_type": "code",
   "execution_count": 57,
   "metadata": {},
   "outputs": [
    {
     "name": "stdout",
     "output_type": "stream",
     "text": [
      "[1]\n"
     ]
    }
   ],
   "source": [
    "A=[[1]]\n",
    "M = spiralOrder(A)"
   ]
  },
  {
   "cell_type": "code",
   "execution_count": 60,
   "metadata": {},
   "outputs": [
    {
     "name": "stdout",
     "output_type": "stream",
     "text": [
      "[1, 2, 4, 6, 5, 3]\n"
     ]
    }
   ],
   "source": [
    "A=[[1,2],[3,4],[5,6]]\n",
    "M = spiralOrder(A)"
   ]
  }
 ],
 "metadata": {
  "kernelspec": {
   "display_name": "Python 3",
   "language": "python",
   "name": "python3"
  },
  "language_info": {
   "codemirror_mode": {
    "name": "ipython",
    "version": 3
   },
   "file_extension": ".py",
   "mimetype": "text/x-python",
   "name": "python",
   "nbconvert_exporter": "python",
   "pygments_lexer": "ipython3",
   "version": "3.7.4"
  },
  "widgets": {
   "application/vnd.jupyter.widget-state+json": {
    "state": {},
    "version_major": 2,
    "version_minor": 0
   }
  }
 },
 "nbformat": 4,
 "nbformat_minor": 2
}
