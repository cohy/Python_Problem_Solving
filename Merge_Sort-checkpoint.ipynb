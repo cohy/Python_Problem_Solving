{
 "cells": [
  {
   "cell_type": "markdown",
   "metadata": {},
   "source": [
    "Implementation of MergeSort\n",
    "\n",
    "Time Complexity : O(nlogn)"
   ]
  },
  {
   "cell_type": "code",
   "execution_count": 80,
   "metadata": {},
   "outputs": [],
   "source": [
    "def Merge(left,right,A):\n",
    "    i= 0\n",
    "    j= 0 \n",
    "    k= 0\n",
    "    nl = len(left) - 1\n",
    "    nr = len(right) - 1\n",
    "    while (i <= nl) and (j <= nr):\n",
    "        if left[i] <= right[j]:\n",
    "            A[k]=left[i]\n",
    "            i +=1\n",
    "        elif right[j] < left[i]:\n",
    "            A[k] = right[j]\n",
    "            j +=1\n",
    "         \n",
    "        k +=1\n",
    "    while i<= nl:\n",
    "        A[k] = left[i]\n",
    "        i +=1\n",
    "        k +=1\n",
    "    \n",
    "    while j <= nr:\n",
    "        A[k] = right[j]\n",
    "        j += 1\n",
    "        k += 1\n",
    "    return A  \n",
    "\n",
    "def MergeSort(A,n):\n",
    "    left= []\n",
    "    right = []\n",
    "    if n < 2:\n",
    "        return\n",
    "    else:\n",
    "        mid = (n//2)\n",
    "        for i in range(n):\n",
    "            if i < mid:\n",
    "                left.append(A[i])\n",
    "            else:\n",
    "                right.append(A[i])\n",
    "     \n",
    "    MergeSort(left,len(left))\n",
    "    MergeSort(right,len(right))\n",
    "    A = Merge(left,right,A)\n",
    "    return A"
   ]
  },
  {
   "cell_type": "code",
   "execution_count": 81,
   "metadata": {},
   "outputs": [
    {
     "data": {
      "text/plain": [
       "[1, 1, 2, 2, 3, 4, 5, 10]"
      ]
     },
     "execution_count": 81,
     "metadata": {},
     "output_type": "execute_result"
    }
   ],
   "source": [
    "A = [2,4,3,5,1,2,1,10]\n",
    "MergeSort(A,8)"
   ]
  }
 ],
 "metadata": {
  "kernelspec": {
   "display_name": "Python 3",
   "language": "python",
   "name": "python3"
  },
  "language_info": {
   "codemirror_mode": {
    "name": "ipython",
    "version": 3
   },
   "file_extension": ".py",
   "mimetype": "text/x-python",
   "name": "python",
   "nbconvert_exporter": "python",
   "pygments_lexer": "ipython3",
   "version": "3.7.4"
  }
 },
 "nbformat": 4,
 "nbformat_minor": 2
}
