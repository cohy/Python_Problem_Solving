{
 "cells": [
  {
   "cell_type": "markdown",
   "metadata": {},
   "source": [
    "Implementation of MergeSort\n",
    "\n",
    "Time Complexity : O(nlogn)"
   ]
  },
  {
   "cell_type": "code",
   "execution_count": 50,
   "metadata": {},
   "outputs": [],
   "source": [
    "def Merge(left,right,A):\n",
    "    i= 0\n",
    "    j= 0 \n",
    "    k= 0\n",
    "    nl = len(left) - 1\n",
    "    nr = len(right) - 1\n",
    "    while (i <= nl) and (j <= nr):\n",
    "        if left[i] < right[j]:\n",
    "            A[k]=left[i]\n",
    "            i +=1\n",
    "        elif right[j] < left[i]:\n",
    "            A[k] = right[j]\n",
    "            j +=1\n",
    "        else:\n",
    "            A[k] = left[i]\n",
    "            i +=1\n",
    "            j +=1\n",
    "        k +=1\n",
    "    while i<= nl:\n",
    "        A[k] = left[i]\n",
    "        i +=1\n",
    "        k +=1\n",
    "    \n",
    "    while j <= nr:\n",
    "        A[k] = right[j]\n",
    "        j += 1\n",
    "        k += 1\n",
    "        \n",
    "\n",
    "def MergeSort(A,n):\n",
    "    left= []\n",
    "    right = []\n",
    "    if n < 2:\n",
    "        return\n",
    "    else:\n",
    "        mid = (n//2)\n",
    "        for i in range(n):\n",
    "            if i < mid:\n",
    "                left.append(A[i])\n",
    "            else:\n",
    "                right.append(A[i])\n",
    "    MergeSort(left,len(left))\n",
    "    MergeSort(right,len(right))\n",
    "    Merge(left,right,A)\n",
    "    print(A)"
   ]
  },
  {
   "cell_type": "code",
   "execution_count": 52,
   "metadata": {},
   "outputs": [
    {
     "name": "stdout",
     "output_type": "stream",
     "text": [
      "[2, 4]\n",
      "[1, 5]\n",
      "[1, 3, 5]\n",
      "[1, 2, 3, 4, 5]\n"
     ]
    }
   ],
   "source": [
    "A = [2,4,3,5,1]\n",
    "MergeSort(A,5)"
   ]
  }
 ],
 "metadata": {
  "kernelspec": {
   "display_name": "Python 3",
   "language": "python",
   "name": "python3"
  },
  "language_info": {
   "codemirror_mode": {
    "name": "ipython",
    "version": 3
   },
   "file_extension": ".py",
   "mimetype": "text/x-python",
   "name": "python",
   "nbconvert_exporter": "python",
   "pygments_lexer": "ipython3",
   "version": "3.7.4"
  }
 },
 "nbformat": 4,
 "nbformat_minor": 2
}
