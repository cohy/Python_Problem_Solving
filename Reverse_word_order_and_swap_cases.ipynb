{
 "cells": [
  {
   "cell_type": "markdown",
   "metadata": {},
   "source": [
    "Function to Print a Sentence in reverse and change the case of letter in the given Word"
   ]
  },
  {
   "cell_type": "code",
   "execution_count": 1,
   "metadata": {},
   "outputs": [],
   "source": [
    "def reverse_words_order_and_swap_cases(sentence):\n",
    "    # Write your code here\n",
    "    st = sentence.split()\n",
    "    print(st)\n",
    "    st.reverse()\n",
    "    sent = ''\n",
    "    for i in st:\n",
    "        for j in i:\n",
    "            if j.isupper():\n",
    "                sent = sent + j.lower()\n",
    "            elif j.islower():\n",
    "                sent = sent + j.upper()\n",
    "            else:\n",
    "                sent = sent + j\n",
    "        sent =sent + ' '\n",
    "        \n",
    "    return sent"
   ]
  },
  {
   "cell_type": "code",
   "execution_count": 3,
   "metadata": {},
   "outputs": [],
   "source": [
    "sent = 'aWESOME is cODING'"
   ]
  },
  {
   "cell_type": "code",
   "execution_count": 4,
   "metadata": {},
   "outputs": [
    {
     "name": "stdout",
     "output_type": "stream",
     "text": [
      "['aWESOME', 'is', 'cODING']\n"
     ]
    },
    {
     "data": {
      "text/plain": [
       "'Coding IS Awesome '"
      ]
     },
     "execution_count": 4,
     "metadata": {},
     "output_type": "execute_result"
    }
   ],
   "source": [
    "reverse_words_order_and_swap_cases(sent)"
   ]
  }
 ],
 "metadata": {
  "kernelspec": {
   "display_name": "Python 3",
   "language": "python",
   "name": "python3"
  },
  "language_info": {
   "codemirror_mode": {
    "name": "ipython",
    "version": 3
   },
   "file_extension": ".py",
   "mimetype": "text/x-python",
   "name": "python",
   "nbconvert_exporter": "python",
   "pygments_lexer": "ipython3",
   "version": "3.7.4"
  }
 },
 "nbformat": 4,
 "nbformat_minor": 2
}
