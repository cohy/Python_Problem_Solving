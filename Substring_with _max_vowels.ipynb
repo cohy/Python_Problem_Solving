{
 "cells": [
  {
   "cell_type": "markdown",
   "metadata": {},
   "source": [
    "A function to find Substring of a given length ,in a string which contains maximum number of vowels\n",
    "\n"
   ]
  },
  {
   "cell_type": "code",
   "execution_count": 11,
   "metadata": {},
   "outputs": [],
   "source": [
    "def findSubstring(s, k):\n",
    "    # Write your code here\n",
    "    A = []\n",
    "    mylist = []\n",
    "    vowel = ['a','e','i','o','u']\n",
    "    cnt = 0\n",
    "    maxcnt = 0\n",
    "    maxlist = ''\n",
    "    A = list(s)\n",
    "    for i in range(len(A) - (k-1)):\n",
    "        #print(i)\n",
    "        mylist = A[i:i+(k)]\n",
    "        #print(mylist)\n",
    "        for i in mylist:\n",
    "            if (i == 'a') or (i=='e') or (i == 'i') or (i == 'o') or (i =='u'):\n",
    "                cnt = cnt + 1\n",
    "        if cnt > maxcnt:\n",
    "            maxcnt = cnt\n",
    "            maxlist = ''.join(mylist)\n",
    "        cnt = 0\n",
    "    if maxcnt == 0:\n",
    "        maxlist = 'Not found!'\n",
    "    return maxlist\n"
   ]
  },
  {
   "cell_type": "code",
   "execution_count": 9,
   "metadata": {},
   "outputs": [],
   "source": [
    "s = 'azerdii'\n",
    "k = 3"
   ]
  },
  {
   "cell_type": "code",
   "execution_count": 12,
   "metadata": {},
   "outputs": [
    {
     "data": {
      "text/plain": [
       "'aze'"
      ]
     },
     "execution_count": 12,
     "metadata": {},
     "output_type": "execute_result"
    }
   ],
   "source": [
    "findSubstring(s,k)"
   ]
  }
 ],
 "metadata": {
  "kernelspec": {
   "display_name": "Python 3",
   "language": "python",
   "name": "python3"
  },
  "language_info": {
   "codemirror_mode": {
    "name": "ipython",
    "version": 3
   },
   "file_extension": ".py",
   "mimetype": "text/x-python",
   "name": "python",
   "nbconvert_exporter": "python",
   "pygments_lexer": "ipython3",
   "version": "3.7.4"
  }
 },
 "nbformat": 4,
 "nbformat_minor": 2
}
