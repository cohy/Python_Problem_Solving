{
 "cells": [
  {
   "cell_type": "markdown",
   "metadata": {},
   "source": [
    "Implementation of Quick_Sort\n",
    "\n",
    "Average time complexity -O(nlogn)"
   ]
  },
  {
   "cell_type": "code",
   "execution_count": 8,
   "metadata": {},
   "outputs": [],
   "source": [
    "def Partition(A,start,end):\n",
    "    pivot = A[end]\n",
    "    pindex = start\n",
    "    for i in range(start,end):\n",
    "        if A[i] <= pivot:\n",
    "            A[pindex], A[i] = A[i],A[pindex]\n",
    "            pindex +=1\n",
    "    A[end],A[pindex] = A[pindex],A[end]\n",
    "    return pindex\n"
   ]
  },
  {
   "cell_type": "code",
   "execution_count": 34,
   "metadata": {},
   "outputs": [],
   "source": [
    "def QuickSort(A,start,end):\n",
    "    if start < end:\n",
    "        pindex = Partition(A,start,end)\n",
    "        A =  QuickSort(A,start,pindex-1)\n",
    "        A =  QuickSort(A,pindex+1,end)\n",
    "    return A"
   ]
  },
  {
   "cell_type": "code",
   "execution_count": 40,
   "metadata": {},
   "outputs": [],
   "source": [
    "A = [7,2,5,6,8,9,1,1,2]\n",
    "start = 0 \n",
    "end = 8"
   ]
  },
  {
   "cell_type": "code",
   "execution_count": 41,
   "metadata": {},
   "outputs": [
    {
     "data": {
      "text/plain": [
       "[1, 1, 2, 2, 5, 6, 7, 8, 9]"
      ]
     },
     "execution_count": 41,
     "metadata": {},
     "output_type": "execute_result"
    }
   ],
   "source": [
    "QuickSort(A,start,end)"
   ]
  }
 ],
 "metadata": {
  "kernelspec": {
   "display_name": "Python 3",
   "language": "python",
   "name": "python3"
  },
  "language_info": {
   "codemirror_mode": {
    "name": "ipython",
    "version": 3
   },
   "file_extension": ".py",
   "mimetype": "text/x-python",
   "name": "python",
   "nbconvert_exporter": "python",
   "pygments_lexer": "ipython3",
   "version": "3.7.4"
  }
 },
 "nbformat": 4,
 "nbformat_minor": 2
}
